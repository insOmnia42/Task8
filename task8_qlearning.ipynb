{
  "cells": [
    {
      "cell_type": "code",
      "execution_count": 1,
      "metadata": {
        "id": "Dvm6MmIGddQw"
      },
      "outputs": [],
      "source": [
        "%load_ext autoreload\n",
        "%autoreload 2\n",
        "import numpy as np\n",
        "import matplotlib.pyplot as plt\n",
        "%matplotlib inline\n",
        "from IPython.display import clear_output"
      ]
    },
    {
      "cell_type": "markdown",
      "metadata": {
        "id": "jgcJ2LJ2ddQz"
      },
      "source": [
        "## 1. Q-learning in the wild (3 pts)\n",
        "\n",
        "Here we use the qlearning agent on taxi env from openai gym.\n",
        "You will need to insert a few agent functions here."
      ]
    },
    {
      "cell_type": "code",
      "execution_count": 3,
      "metadata": {
        "id": "c6uJVRBJddQ1"
      },
      "outputs": [],
      "source": [
        "import random,math\n",
        "import numpy as np\n",
        "from collections import defaultdict\n",
        "\n",
        "class QLearningAgent():\n",
        "  \"\"\"\n",
        "    Q-Learning Agent\n",
        "\n",
        "    Instance variables you have access to\n",
        "      - self.epsilon (exploration prob)\n",
        "      - self.alpha (learning rate)\n",
        "      - self.discount (discount rate aka gamma)\n",
        "\n",
        "    Functions you should use\n",
        "      - self.getLegalActions(state)\n",
        "        which returns legal actions for a state\n",
        "      - self.getQValue(state,action)\n",
        "        which returns Q(state,action)\n",
        "      - self.setQValue(state,action,value)\n",
        "        which sets Q(state,action) := value\n",
        "\n",
        "    !!!Important!!!\n",
        "    NOTE: please avoid using self._qValues directly to make code cleaner\n",
        "  \"\"\"\n",
        "  def __init__(self,alpha,epsilon,discount,getLegalActions):\n",
        "    \"We initialize agent and Q-values here.\"\n",
        "    self.getLegalActions= getLegalActions\n",
        "    self._qValues = defaultdict(lambda:defaultdict(lambda:0))\n",
        "    self.alpha = alpha\n",
        "    self.epsilon = epsilon\n",
        "    self.discount = discount\n",
        "\n",
        "  def getQValue(self, state, action):\n",
        "    #print(state)\n",
        "    #print(action)\n",
        "    if not (state in self._qValues) or not (action in self._qValues[state]):\n",
        "        return 0.0\n",
        "    return self._qValues[state][action]\n",
        "\n",
        "  def setQValue(self,state,action,value):\n",
        "    \"\"\"\n",
        "      Sets the Qvalue for [state,action] to the given value\n",
        "    \"\"\"\n",
        "    self._qValues[state][action] = value\n",
        "\n",
        "#---------------------#start of your code#---------------------#\n",
        "\n",
        "  def getValue(self, state):\n",
        "    possibleActions = self.getLegalActions(state)\n",
        "\n",
        "    # If there are no legal actions, return 0.0\n",
        "    if not possibleActions:\n",
        "      return 0.0\n",
        "\n",
        "    # Find the maximum Q-value among all possible actions\n",
        "    return max(self.getQValue(state, action) for action in possibleActions)\n",
        "\n",
        "  def getPolicy(self, state):\n",
        "    \"\"\"\n",
        "      Compute the best action to take in a state.\n",
        "    \"\"\"\n",
        "    possibleActions = self.getLegalActions(state)\n",
        "\n",
        "    # If there are no legal actions, return None\n",
        "    if not possibleActions:\n",
        "      return None\n",
        "\n",
        "    # Find the action with the highest Q-value\n",
        "    best_action = max(possibleActions, key=lambda action: self.getQValue(state, action))\n",
        "    return best_action\n",
        "\n",
        "  def getAction(self, state):\n",
        "    \"\"\"\n",
        "      Compute the action to take in the current state, including exploration.\n",
        "\n",
        "      With probability self.epsilon, we should take a random action.\n",
        "      otherwise - the best policy action (self.getPolicy).\n",
        "    \"\"\"\n",
        "    possibleActions = self.getLegalActions(state)\n",
        "\n",
        "    # If there are no legal actions, return None\n",
        "    if not possibleActions:\n",
        "      return None\n",
        "\n",
        "    # Choose action with epsilon-greedy exploration\n",
        "    if random.random() < self.epsilon:\n",
        "      return random.choice(possibleActions)\n",
        "    else:\n",
        "      return self.getPolicy(state)\n",
        "\n",
        "  def update(self, state, action, nextState, reward):\n",
        "    \"\"\"\n",
        "      You should do your Q-Value update here.\n",
        "    \"\"\"\n",
        "    # Agent parameters\n",
        "    gamma = self.discount\n",
        "    learning_rate = self.alpha\n",
        "\n",
        "    # Compute the sample value\n",
        "    future_value = self.getValue(nextState)\n",
        "    sample = reward + gamma * future_value\n",
        "\n",
        "    # Update the Q-value using the Q-learning formula\n",
        "    current_q = self.getQValue(state, action)\n",
        "    updated_q = (1 - learning_rate) * current_q + learning_rate * sample\n",
        "\n",
        "    # Set the updated Q-value\n",
        "    self.setQValue(state, action, updated_q)"
      ]
    },
    {
      "cell_type": "code",
      "execution_count": 4,
      "metadata": {
        "id": "6IyXE8SzddQ2",
        "colab": {
          "base_uri": "https://localhost:8080/"
        },
        "outputId": "43ed4254-9e86-4ec8-fd40-174223977355"
      },
      "outputs": [
        {
          "output_type": "stream",
          "name": "stderr",
          "text": [
            "/usr/local/lib/python3.10/dist-packages/gym/core.py:317: DeprecationWarning: \u001b[33mWARN: Initializing wrapper in old step API which returns one bool instead of two. It is recommended to set `new_step_api=True` to use new step API. This will be the default behaviour in future.\u001b[0m\n",
            "  deprecation(\n",
            "/usr/local/lib/python3.10/dist-packages/gym/wrappers/step_api_compatibility.py:39: DeprecationWarning: \u001b[33mWARN: Initializing environment in old step API which returns one bool instead of two. It is recommended to set `new_step_api=True` to use new step API. This will be the default behaviour in future.\u001b[0m\n",
            "  deprecation(\n"
          ]
        }
      ],
      "source": [
        "import gym\n",
        "env = gym.make(\"Taxi-v3\")\n",
        "n_actions = env.action_space.n"
      ]
    },
    {
      "cell_type": "code",
      "execution_count": 7,
      "metadata": {
        "id": "7TFzQrJJddQ2"
      },
      "outputs": [],
      "source": [
        "def play_and_train(env, agent, t_max=10**4):\n",
        "    total_reward = 0.0\n",
        "    s = env.reset()\n",
        "\n",
        "    for t in range(t_max):\n",
        "        a = agent.getAction(s)\n",
        "        next_s, r, done, _ = env.step(a)\n",
        "        s = next_s\n",
        "        total_reward += r\n",
        "        if done:\n",
        "            break\n",
        "\n",
        "    return total_reward"
      ]
    },
    {
      "cell_type": "code",
      "execution_count": 8,
      "metadata": {
        "id": "LhsvXf9BddQ2"
      },
      "outputs": [],
      "source": [
        "agent = QLearningAgent(alpha=0.1,epsilon=0.1,discount=0.99,\n",
        "                       getLegalActions = lambda s: range(n_actions))"
      ]
    },
    {
      "cell_type": "markdown",
      "metadata": {
        "id": "_ZwJKCfvddQ3"
      },
      "source": [
        "Достигните положительной награды, постройте график"
      ]
    },
    {
      "cell_type": "code",
      "execution_count": 9,
      "metadata": {
        "id": "Zo6QbdGxddQ3"
      },
      "outputs": [],
      "source": [
        "from IPython.display import clear_output\n"
      ]
    },
    {
      "cell_type": "code",
      "execution_count": 11,
      "metadata": {
        "id": "48CrrrxGddQ3",
        "colab": {
          "base_uri": "https://localhost:8080/",
          "height": 580
        },
        "outputId": "3d0732c4-2e92-4529-8799-aff7bf816eba"
      },
      "outputs": [
        {
          "output_type": "stream",
          "name": "stdout",
          "text": [
            "Episode 900, Epsilon: 0.010, Average Reward: -204.86\n"
          ]
        },
        {
          "output_type": "display_data",
          "data": {
            "text/plain": [
              "<Figure size 1200x600 with 1 Axes>"
            ],
            "image/png": "[encoded data removed]"
          },
          "metadata": {}
        }
      ],
      "source": [
        "import matplotlib.pyplot as plt\n",
        "from IPython.display import clear_output\n",
        "\n",
        "rewards = []\n",
        "\n",
        "num_episodes = 1000\n",
        "\n",
        "epsilon_decay = 0.995\n",
        "min_epsilon = 0.01\n",
        "\n",
        "for i in range(num_episodes):\n",
        "    rewards.append(play_and_train(env, agent))\n",
        "    agent.epsilon = max(min_epsilon, agent.epsilon * epsilon_decay)\n",
        "    if i % 100 == 0:\n",
        "        clear_output(wait=True)\n",
        "        print(f\"Episode {i}, Epsilon: {agent.epsilon:.3f}, Average Reward: {np.mean(rewards[-100:]):.2f}\")\n",
        "        plt.figure(figsize=(12, 6))\n",
        "        plt.plot(rewards, label=\"Total Reward per Episode\")\n",
        "        plt.axhline(0, color='red', linestyle='--', label=\"Baseline (0 Reward)\")\n",
        "        plt.xlabel(\"Episode\")\n",
        "        plt.ylabel(\"Total Reward\")\n",
        "        plt.title(\"Training Progress\")\n",
        "        plt.legend()\n",
        "        plt.grid()\n",
        "        plt.show()\n",
        "\n"
      ]
    },
    {
      "cell_type": "markdown",
      "metadata": {
        "collapsed": true,
        "id": "gxQu70I_ddQ4"
      },
      "source": [
        "## 3. Continuous state space (2 pt)\n",
        "\n",
        "Чтобы использовать табличный q-learning на continuous состояниях, надо как-то их обрабатывать и бинаризовать. Придумайте способ разбивки на дискретные состояния."
      ]
    },
    {
      "cell_type": "code",
      "execution_count": 12,
      "metadata": {
        "id": "L4eD9gTjddQ4",
        "colab": {
          "base_uri": "https://localhost:8080/"
        },
        "outputId": "b4ba4f48-7fbe-442f-9bf7-ff50ae08337c"
      },
      "outputs": [
        {
          "output_type": "stream",
          "name": "stdout",
          "text": [
            "First state: [-0.00649324  0.00854838 -0.00775327 -0.04250602]\n",
            "Discretized state: (5, 5, 5, 5)\n"
          ]
        },
        {
          "output_type": "stream",
          "name": "stderr",
          "text": [
            "/usr/local/lib/python3.10/dist-packages/gym/envs/registration.py:593: UserWarning: \u001b[33mWARN: The environment CartPole-v0 is out of date. You should consider upgrading to version `v1`.\u001b[0m\n",
            "  logger.warn(\n",
            "/usr/local/lib/python3.10/dist-packages/gym/core.py:317: DeprecationWarning: \u001b[33mWARN: Initializing wrapper in old step API which returns one bool instead of two. It is recommended to set `new_step_api=True` to use new step API. This will be the default behaviour in future.\u001b[0m\n",
            "  deprecation(\n",
            "/usr/local/lib/python3.10/dist-packages/gym/wrappers/step_api_compatibility.py:39: DeprecationWarning: \u001b[33mWARN: Initializing environment in old step API which returns one bool instead of two. It is recommended to set `new_step_api=True` to use new step API. This will be the default behaviour in future.\u001b[0m\n",
            "  deprecation(\n"
          ]
        }
      ],
      "source": [
        "\n",
        "env = gym.make(\"CartPole-v0\")\n",
        "n_actions = env.action_space.n\n",
        "def discretize_state(state, bins):\n",
        "    \"\"\"\n",
        "    Разбиение состояния на дискретные значения.\n",
        "\n",
        "    state: исходное состояние (например, (position, velocity, angle, angular velocity))\n",
        "    bins: список с количеством интервалов для каждого признака\n",
        "    \"\"\"\n",
        "    discretized_state = []\n",
        "    for i, value in enumerate(state):\n",
        "        discretized_state.append(int(np.digitize(value, np.linspace(min_value[i], max_value[i], bins[i]))))\n",
        "    return tuple(discretized_state)\n",
        "\n",
        "min_value = [-2.4, -3.0, -0.5, -2.0]\n",
        "max_value = [2.4, 3.0, 0.5, 2.0]\n",
        "\n",
        "bins = [10, 10, 10, 10]\n",
        "state = env.reset()\n",
        "print(\"First state:\", state)\n",
        "discretized_state = discretize_state(state, bins)\n",
        "print(\"Discretized state:\", discretized_state)\n",
        "\n"
      ]
    },
    {
      "cell_type": "code",
      "execution_count": null,
      "metadata": {
        "id": "_6V68sMQddQ4"
      },
      "outputs": [],
      "source": []
    },
    {
      "cell_type": "markdown",
      "metadata": {
        "id": "TUM1t0jvddQ4"
      },
      "source": [
        "### Play a few games\n",
        "\n",
        "Постройте распределения различных частей состояния игры. Сыграйте несколько игр и запишите все состояния."
      ]
    },
    {
      "cell_type": "code",
      "execution_count": null,
      "metadata": {
        "id": "rnHeBx5XddQ5"
      },
      "outputs": [],
      "source": []
    },
    {
      "cell_type": "markdown",
      "metadata": {
        "id": "3zZHwCUfddQ5"
      },
      "source": [
        "## Binarize environment"
      ]
    },
    {
      "cell_type": "code",
      "execution_count": null,
      "metadata": {
        "id": "e6f-DyizddQ5"
      },
      "outputs": [],
      "source": [
        "from gym.core import ObservationWrapper\n",
        "class Binarizer(ObservationWrapper):\n",
        "\n",
        "    def to_bin(self, value, bins):\n",
        "\n",
        "        return\n",
        "\n",
        "    def _observation(self,state):\n",
        "\n",
        "        state = (self.to_bin(state[0], ), self.to_bin(state[1], ), self.to_bin(state[2], ), self.to_bin(state[3], ))\n",
        "\n",
        "        return state"
      ]
    },
    {
      "cell_type": "code",
      "execution_count": null,
      "metadata": {
        "id": "EpaDIw43ddQ5"
      },
      "outputs": [],
      "source": [
        "env = Binarizer(gym.make(\"CartPole-v0\"))"
      ]
    },
    {
      "cell_type": "markdown",
      "metadata": {
        "id": "LkZCEBD_ddQ5"
      },
      "source": [
        "## Learn"
      ]
    },
    {
      "cell_type": "code",
      "execution_count": null,
      "metadata": {
        "id": "6sFMtxZYddQ5"
      },
      "outputs": [],
      "source": [
        "agent = QLearningAgent(alpha=,epsilon=,discount=,\n",
        "                       getLegalActions = lambda s: range(n_actions))"
      ]
    },
    {
      "cell_type": "code",
      "execution_count": null,
      "metadata": {
        "id": "S2uuuA5bddQ5"
      },
      "outputs": [],
      "source": [
        "rewards = []\n",
        "rewBuf = []\n",
        "ma = -1000000000000\n",
        "for i in range(10000):\n",
        "    for i in range(100):\n",
        "        rewards.append(play_and_train(env,agent))\n",
        "    agent.epsilon *= #\n",
        "    rewBuf.append(np.mean(rewards[-100:]))\n",
        "    clear_output(True)\n",
        "    print(agent.epsilon)\n",
        "    print(rewBuf[-1])\n",
        "    plt.plot(rewBuf)\n",
        "    if(rewBuf[-1] > 195):\n",
        "        print(\"Win!\")\n",
        "        break\n",
        "    plt.show()\n"
      ]
    },
    {
      "cell_type": "markdown",
      "metadata": {
        "id": "0GCEU6g1ddQ5"
      },
      "source": [
        "## 4. Experience replay (5 pts)"
      ]
    },
    {
      "cell_type": "code",
      "execution_count": null,
      "metadata": {
        "id": "nQ_3uojDddQ5"
      },
      "outputs": [],
      "source": [
        "import random\n",
        "class ReplayBuffer(object):\n",
        "    def __init__(self, size):\n",
        "        \"\"\"Create Replay buffer.\n",
        "        Parameters\n",
        "        ----------\n",
        "        size: int\n",
        "            Max number of transitions to store in the buffer. When the buffer\n",
        "            overflows the old memories are dropped.\n",
        "        \"\"\"\n",
        "        self._storage = []\n",
        "        self._maxsize = size\n",
        "        self._replaceId = 0\n",
        "\n",
        "\n",
        "    def __len__(self):\n",
        "        return len(self._storage)\n",
        "\n",
        "    def add(self, obs_t, action, reward, obs_tp1, done):\n",
        "        '''\n",
        "        Make sure, _storage will not exceed _maxsize.\n",
        "        '''\n",
        "        data = (obs_t, action, reward, obs_tp1, done)\n",
        "        if len(self._storage) == self._maxsize:\n",
        "            #\n",
        "        else:\n",
        "            #\n",
        "\n",
        "    def sample(self, batch_size):\n",
        "        \"\"\"Sample a batch of experiences.\n",
        "        Parameters\n",
        "        ----------\n",
        "        batch_size: int\n",
        "            How many transitions to sample.\n",
        "        Returns\n",
        "        -------\n",
        "        obs_batch: np.array\n",
        "            batch of observations\n",
        "        act_batch: np.array\n",
        "            batch of actions executed given obs_batch\n",
        "        rew_batch: np.array\n",
        "            rewards received as results of executing act_batch\n",
        "        next_obs_batch: np.array\n",
        "            next set of observations seen after executing act_batch\n",
        "        done_mask: np.array\n",
        "            done_mask[i] = 1 if executing act_batch[i] resulted in\n",
        "            the end of an episode and 0 otherwise.\n",
        "        \"\"\"\n",
        "\n",
        "        #\n",
        "\n",
        "        return states, actions, rewards, next_states, is_done\n"
      ]
    },
    {
      "cell_type": "markdown",
      "metadata": {
        "id": "7KkoMo-EddQ6"
      },
      "source": [
        "Some tests to make sure your buffer works right"
      ]
    },
    {
      "cell_type": "code",
      "execution_count": null,
      "metadata": {
        "id": "Ze99MZrmddQ6"
      },
      "outputs": [],
      "source": [
        "import numpy as np\n",
        "replay = ReplayBuffer(2)\n",
        "obj1 = tuple(range(5))\n",
        "obj2 = tuple(range(5, 10))\n",
        "replay.add(*obj1)\n",
        "assert replay.sample(1)==obj1, \"If there's just one object in buffer, it must be retrieved by buf.sample(1)\"\n",
        "replay.add(*obj2)\n",
        "assert len(replay._storage)==2, \"Please make sure __len__ methods works as intended.\"\n",
        "replay.add(*obj2)\n",
        "assert len(replay._storage)==2, \"When buffer is at max capacity, replace objects instead of adding new ones.\"\n",
        "assert tuple(np.unique(a) for a in replay.sample(100))==obj2\n",
        "replay.add(*obj1)\n",
        "assert max(len(np.unique(a)) for a in replay.sample(100))==2\n",
        "replay.add(*obj1)\n",
        "assert tuple(np.unique(a) for a in replay.sample(100))==obj1\n",
        "print (\"Success!\")"
      ]
    },
    {
      "cell_type": "markdown",
      "metadata": {
        "id": "RaImoEEgddQ6"
      },
      "source": [
        "Now let's use this buffer to improve training:"
      ]
    },
    {
      "cell_type": "code",
      "execution_count": null,
      "metadata": {
        "id": "czwcYYYmddQ6"
      },
      "outputs": [],
      "source": [
        "import gym\n",
        "env = Binarizer(gym.make('CartPole-v0'))\n",
        "n_actions = env.action_space.n"
      ]
    },
    {
      "cell_type": "code",
      "execution_count": null,
      "metadata": {
        "id": "ChtwaobcddQ6"
      },
      "outputs": [],
      "source": [
        "agent = QLearningAgent(alpha=,epsilon=,discount=,\n",
        "                       getLegalActions = lambda s: range(n_actions))\n",
        "replay = ReplayBuffer(10000)"
      ]
    },
    {
      "cell_type": "code",
      "execution_count": null,
      "metadata": {
        "id": "ZdKXIULcddQ6"
      },
      "outputs": [],
      "source": [
        "def play_and_train(env, agent, t_max=10**4, batch_size=10):\n",
        "    \"\"\"This function should\n",
        "    - run a full game, actions given by agent.getAction(s)\n",
        "    - train agent using agent.update(...) whenever possible\n",
        "    - return total reward\"\"\"\n",
        "    total_reward = 0.0\n",
        "    s = env.reset()\n",
        "\n",
        "    for t in range(t_max):\n",
        "        aсtion = agent.getAction(s)\n",
        "        next_s, r, done,_ = env.step(aсtion)\n",
        "\n",
        "        #заполните реплей\n",
        "        #опционально - моежте также как в варианте без реплея обучаться по состояниям которые\n",
        "\n",
        "        s = next_s\n",
        "        total_reward +=r\n",
        "        if done:break\n",
        "\n",
        "    #learn from replay\n",
        "\n",
        "    return total_reward\n",
        "\n",
        "\n"
      ]
    },
    {
      "cell_type": "markdown",
      "metadata": {
        "collapsed": true,
        "id": "rcB2f2GaddQ6"
      },
      "source": [
        "Train with experience replay"
      ]
    },
    {
      "cell_type": "code",
      "execution_count": null,
      "metadata": {
        "id": "9Lqmk0S_ddQ6"
      },
      "outputs": [],
      "source": [
        "rewards = []\n",
        "rewBuf = []\n",
        "ma = -1000000000000\n",
        "for i in range(10000):\n",
        "    for i in range(100):\n",
        "        rewards.append(play_and_train(env,agent, batch_size=1000))\n",
        "    agent.epsilon *= #\n",
        "    rewBuf.append(np.mean(rewards[-100:]))\n",
        "    clear_output(True)\n",
        "    print(agent.epsilon)\n",
        "    print(rewBuf[-1])\n",
        "    plt.plot(rewBuf)\n",
        "    if(rewBuf[-1] > 195):\n",
        "        print(\"Win!\")\n",
        "        break\n",
        "    plt.show()\n"
      ]
    }
  ],
  "metadata": {
    "kernelspec": {
      "display_name": "Python 3",
      "language": "python",
      "name": "python3"
    },
    "language_info": {
      "codemirror_mode": {
        "name": "ipython",
        "version": 3
      },
      "file_extension": ".py",
      "mimetype": "text/x-python",
      "name": "python",
      "nbconvert_exporter": "python",
      "pygments_lexer": "ipython3",
      "version": "3.8.3"
    },
    "colab": {
      "provenance": []
    }
  },
  "nbformat": 4,
  "nbformat_minor": 0
}